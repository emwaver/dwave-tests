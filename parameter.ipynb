{
 "cells": [
  {
   "cell_type": "code",
   "execution_count": 1,
   "metadata": {},
   "outputs": [],
   "source": [
    "from math import floor, ceil, sqrt"
   ]
  },
  {
   "cell_type": "code",
   "execution_count": 10,
   "metadata": {},
   "outputs": [
    {
     "data": {
      "text/plain": [
       "[5, 10, 20, 30, 40, 50, 60, 70, 80, 90, 100]"
      ]
     },
     "execution_count": 10,
     "metadata": {},
     "output_type": "execute_result"
    }
   ],
   "source": [
    "operations = [5, 10, 20, 30, 40, 50, 60, 70, 80, 90, 100]\n",
    "operations"
   ]
  },
  {
   "cell_type": "code",
   "execution_count": 11,
   "metadata": {},
   "outputs": [
    {
     "data": {
      "text/plain": [
       "[2, 3, 4, 5, 6, 7, 8, 8, 9, 9, 10]"
      ]
     },
     "execution_count": 11,
     "metadata": {},
     "output_type": "execute_result"
    }
   ],
   "source": [
    "job_operations = [round(sqrt(x)) for x in operations]\n",
    "job_operations"
   ]
  },
  {
   "cell_type": "code",
   "execution_count": 50,
   "metadata": {},
   "outputs": [
    {
     "data": {
      "text/plain": [
       "[2, 3, 4, 5, 6, 7, 8, 8, 9, 9, 10]"
      ]
     },
     "execution_count": 50,
     "metadata": {},
     "output_type": "execute_result"
    }
   ],
   "source": [
    "machines = [round(sqrt(x)) for x in operations]\n",
    "machines"
   ]
  },
  {
   "cell_type": "code",
   "execution_count": 92,
   "metadata": {},
   "outputs": [
    {
     "data": {
      "text/plain": [
       "[1, 2, 2, 2, 2, 3, 3, 3, 3, 3, 3]"
      ]
     },
     "execution_count": 92,
     "metadata": {},
     "output_type": "execute_result"
    }
   ],
   "source": [
    "extra_speeds = [round(sqrt(x)) for x in machines]\n",
    "extra_speeds"
   ]
  },
  {
   "cell_type": "code",
   "execution_count": 96,
   "metadata": {},
   "outputs": [
    {
     "data": {
      "text/plain": [
       "[10, 15, 25, 30, 35, 35, 40, 45, 45, 50, 50]"
      ]
     },
     "execution_count": 96,
     "metadata": {},
     "output_type": "execute_result"
    }
   ],
   "source": [
    "timesteps_initial = [round((op/m)*5 * 1/5)*5 for op, m in zip(operations, machines)]\n",
    "timesteps_initial"
   ]
  },
  {
   "cell_type": "code",
   "execution_count": 94,
   "metadata": {},
   "outputs": [
    {
     "data": {
      "text/plain": [
       "[15, 20, 40, 45, 50, 50, 60, 70, 70, 75, 75]"
      ]
     },
     "execution_count": 94,
     "metadata": {},
     "output_type": "execute_result"
    }
   ],
   "source": [
    "timesteps_total = [round(t_initial * 3/2 * 1/5)*5 for t_initial in timesteps_initial]\n",
    "timesteps_total"
   ]
  },
  {
   "cell_type": "code",
   "execution_count": 95,
   "metadata": {},
   "outputs": [
    {
     "name": "stdout",
     "output_type": "stream",
     "text": [
      "python -u ./create_model.py -bqm -o 5 -m 2 -t 15 -tb 5 -v 1\n",
      "python -u ./create_model.py -bqm -o 10 -m 3 -t 20 -tb 5 -v 2\n",
      "python -u ./create_model.py -bqm -o 20 -m 4 -t 40 -tb 15 -v 2\n",
      "python -u ./create_model.py -bqm -o 30 -m 5 -t 45 -tb 15 -v 2\n",
      "python -u ./create_model.py -bqm -o 40 -m 6 -t 50 -tb 15 -v 2\n",
      "python -u ./create_model.py -bqm -o 50 -m 7 -t 50 -tb 15 -v 3\n",
      "python -u ./create_model.py -bqm -o 60 -m 8 -t 60 -tb 20 -v 3\n",
      "python -u ./create_model.py -bqm -o 70 -m 8 -t 70 -tb 25 -v 3\n",
      "python -u ./create_model.py -bqm -o 80 -m 9 -t 70 -tb 25 -v 3\n",
      "python -u ./create_model.py -bqm -o 90 -m 9 -t 75 -tb 25 -v 3\n",
      "python -u ./create_model.py -bqm -o 100 -m 10 -t 75 -tb 25 -v 3\n"
     ]
    }
   ],
   "source": [
    "for i in range(len(operations)):\n",
    "    o = operations[i]\n",
    "    m = machines[i]\n",
    "    t = timesteps_total[i]\n",
    "    tb = timesteps_total[i] - timesteps_initial[i]\n",
    "    b = job_operations[i]\n",
    "    v = extra_speeds[i]\n",
    "    \n",
    "    print(f\"python -u ./create_model.py -bqm -o {o} -m {m} -t {t} -tb {tb} -v {v}\")"
   ]
  }
 ],
 "metadata": {
  "kernelspec": {
   "display_name": "ocean",
   "language": "python",
   "name": "python3"
  },
  "language_info": {
   "codemirror_mode": {
    "name": "ipython",
    "version": 3
   },
   "file_extension": ".py",
   "mimetype": "text/x-python",
   "name": "python",
   "nbconvert_exporter": "python",
   "pygments_lexer": "ipython3",
   "version": "3.11.1"
  },
  "orig_nbformat": 4
 },
 "nbformat": 4,
 "nbformat_minor": 2
}
